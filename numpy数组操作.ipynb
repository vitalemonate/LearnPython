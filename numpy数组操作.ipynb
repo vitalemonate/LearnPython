{
 "cells": [
  {
   "cell_type": "markdown",
   "metadata": {},
   "source": [
    "# 修改数组的形状"
   ]
  },
  {
   "cell_type": "code",
   "execution_count": null,
   "metadata": {},
   "outputs": [],
   "source": [
    "import numpy as np"
   ]
  },
  {
   "cell_type": "markdown",
   "metadata": {},
   "source": [
    "|函数|描述\n",
    "|--|--\n",
    "|`reshape`|不改变数据的条件下修改形状\n",
    "|`resize`|改变数组形状和大小\n",
    "|`flat`|数组元素迭代器\n",
    "|`flatten`|\t返回一份数组拷贝，对拷贝所做的修改不会影响原始数组\n",
    "|`ravel`|返回展开数组"
   ]
  },
  {
   "cell_type": "markdown",
   "metadata": {},
   "source": [
    "## numpy.reshape"
   ]
  },
  {
   "cell_type": "code",
   "execution_count": null,
   "metadata": {},
   "outputs": [],
   "source": [
    "a = np.arange(6)\n",
    "a"
   ]
  },
  {
   "cell_type": "markdown",
   "metadata": {},
   "source": [
    "将形状修改为2乘3："
   ]
  },
  {
   "cell_type": "code",
   "execution_count": null,
   "metadata": {},
   "outputs": [],
   "source": [
    "a.shape = 2,3\n",
    "a"
   ]
  },
  {
   "cell_type": "markdown",
   "metadata": {},
   "source": [
    "与之对应的方法是 `reshape` ，但它**不会修改原来数组的值，而是返回一个新的数组**"
   ]
  },
  {
   "cell_type": "code",
   "execution_count": null,
   "metadata": {},
   "outputs": [],
   "source": [
    "a.reshape(3,2)"
   ]
  },
  {
   "cell_type": "code",
   "execution_count": null,
   "metadata": {},
   "outputs": [],
   "source": [
    "a"
   ]
  },
  {
   "cell_type": "markdown",
   "metadata": {},
   "source": [
    "如果在 `reshape` 操作中将 `size `指定为-1，则会自动计算其他的 `size `大小"
   ]
  },
  {
   "cell_type": "code",
   "execution_count": null,
   "metadata": {},
   "outputs": [],
   "source": [
    "a.reshape(3,-1)"
   ]
  },
  {
   "cell_type": "markdown",
   "metadata": {},
   "source": [
    "## numpy.resize"
   ]
  },
  {
   "cell_type": "markdown",
   "metadata": {},
   "source": [
    "numpy.resize 函数返回指定大小的**新数组**\n",
    "\n",
    "如果新数组大小大于原始大小，则包含原始数组中的元素的**副本**"
   ]
  },
  {
   "cell_type": "markdown",
   "metadata": {},
   "source": [
    "`numpy.resize(arr, shape)`\n",
    "\n",
    "参数说明：\n",
    "\n",
    "\n",
    "* `arr`：要修改大小的数组\n",
    "\n",
    "* `shape`：返回数组的新形状"
   ]
  },
  {
   "cell_type": "code",
   "execution_count": null,
   "metadata": {},
   "outputs": [],
   "source": [
    "a = np.array([[1,2,3],[4,5,6]])\n",
    " \n",
    "print '第一个数组：'\n",
    "print a\n",
    "print '\\n'\n",
    " \n",
    "print '第一个数组的形状：'\n",
    "print a.shape\n",
    "print '\\n'\n",
    "b = np.resize(a, (3,2))\n",
    " \n",
    "print '第二个数组：'\n",
    "print b\n",
    "print ('\\n')\n",
    " \n",
    "print '第二个数组的形状：'\n",
    "print b.shape\n",
    "print '\\n'\n",
    " \n",
    "print '修改第二个数组的大小：'\n",
    "b = np.resize(a,(3,3))\n",
    "# 要注意 a 的第一行在 b 中重复出现，因为尺寸变大了\n",
    "print b"
   ]
  },
  {
   "cell_type": "markdown",
   "metadata": {},
   "source": [
    "## numpy.ndarray.resize"
   ]
  },
  {
   "cell_type": "markdown",
   "metadata": {},
   "source": [
    "`numpy.ndarray.resize`与`numpy.resize ndarray`的区别\n",
    "\n",
    "* `numpy.ndarray.resize`对数组进行原地(`in-place`)修改无返回值，而`numpy.resize`返回一个新的数组\n",
    "\n",
    "\n",
    "* 当新的size比原来的size大时，`numpy.ndarray.resize`默认填充0,而`numpy.resize`将copy原数组中的值对新数组进行填充"
   ]
  },
  {
   "cell_type": "markdown",
   "metadata": {},
   "source": [
    "`resize(new_shape, refcheck=True)`"
   ]
  },
  {
   "cell_type": "markdown",
   "metadata": {},
   "source": [
    "参数说明：\n",
    "\n",
    "\n",
    "* `new_shape`: tuple of ints, or n ints. Shape of resized array.\n",
    "\n",
    "\n",
    "* `refcheckbool`: 默认为True，如果为False，引用计数将不会被check"
   ]
  },
  {
   "cell_type": "markdown",
   "metadata": {},
   "source": [
    "新的size比原来的size小时，数组将会缩小(**Shrink**),缩小的顺序将按照其在内在中的存储顺序进行"
   ]
  },
  {
   "cell_type": "code",
   "execution_count": null,
   "metadata": {},
   "outputs": [],
   "source": [
    "a = np.array([[0, 1], [2, 3]], order='C') ## \n",
    "print a\n",
    "a.resize((2, 1))\n",
    "print a"
   ]
  },
  {
   "cell_type": "markdown",
   "metadata": {},
   "source": [
    "新的size比原来的size大时，`numpy.ndarray.resize`默认填充0"
   ]
  },
  {
   "cell_type": "code",
   "execution_count": null,
   "metadata": {},
   "outputs": [],
   "source": [
    "a = np.array([[0, 1], [2, 3]], order='C') ## \n",
    "a.resize((3,3))\n",
    "print a"
   ]
  },
  {
   "cell_type": "markdown",
   "metadata": {},
   "source": [
    "默认情况下`refcheckbool=True`，则不能通过引用对象进行resize"
   ]
  },
  {
   "cell_type": "code",
   "execution_count": null,
   "metadata": {},
   "outputs": [],
   "source": [
    "a = np.array([[0, 1], [2, 3]], order='C') ## \n",
    "c = a\n",
    "c.resize((3,3))\n",
    "print c"
   ]
  },
  {
   "cell_type": "markdown",
   "metadata": {},
   "source": [
    "如果想通过引用对象进行resize,`refcheckbool`必须设置为False"
   ]
  },
  {
   "cell_type": "code",
   "execution_count": null,
   "metadata": {},
   "outputs": [],
   "source": [
    "a = np.array([[0, 1], [2, 3]], order='C') ## \n",
    "c = a\n",
    "c.resize((3,3), refcheck=False)\n",
    "print c"
   ]
  },
  {
   "cell_type": "markdown",
   "metadata": {},
   "source": [
    "使用view()对象也是不被允许的"
   ]
  },
  {
   "cell_type": "code",
   "execution_count": null,
   "metadata": {},
   "outputs": [],
   "source": [
    "a = np.array([[0, 1], [2, 3]], order='C') ## \n",
    "c = a.view()\n",
    "print c.base is a\n",
    "c.resize((3,3), refcheck=False)\n",
    "print c"
   ]
  },
  {
   "cell_type": "markdown",
   "metadata": {},
   "source": [
    "## numpy.ndarray.flat"
   ]
  },
  {
   "cell_type": "markdown",
   "metadata": {},
   "source": [
    "`numpy.ndarray.flat `是一个数组元素迭代器，通过迭代器可以对原数组的内容进行修改"
   ]
  },
  {
   "cell_type": "code",
   "execution_count": null,
   "metadata": {},
   "outputs": [],
   "source": [
    "a = np.arange(9).reshape(3,3) \n",
    "print '原始数组：'\n",
    "for row in a:\n",
    "    print row\n",
    " \n",
    "#对数组中每个元素都进行处理，可以使用flat属性，该属性是一个数组元素迭代器：\n",
    "print '迭代后的数组：'\n",
    "for element in a.flat:\n",
    "    print element"
   ]
  },
  {
   "cell_type": "markdown",
   "metadata": {},
   "source": [
    "但此时修改 `b` 的值会影响 `a` ："
   ]
  },
  {
   "cell_type": "code",
   "execution_count": null,
   "metadata": {},
   "outputs": [],
   "source": [
    "b = a.flat\n",
    "b[0] = 100\n",
    "print a"
   ]
  },
  {
   "cell_type": "markdown",
   "metadata": {},
   "source": [
    "## numpy.ndarray.flatten"
   ]
  },
  {
   "cell_type": "markdown",
   "metadata": {},
   "source": [
    "`numpy.ndarray.flatten` 返回一份数组**拷贝**，对拷贝所做的修改不会影响原始数组,格式如下"
   ]
  },
  {
   "cell_type": "markdown",
   "metadata": {},
   "source": [
    "`ndarray.flatten(order='C')`\n",
    "\n",
    "参数说明：`order`：'C' -- 按行，'F' -- 按列，'A' -- 原顺序，'K' -- 元素在内存中的出现顺序"
   ]
  },
  {
   "cell_type": "code",
   "execution_count": null,
   "metadata": {},
   "outputs": [],
   "source": [
    "a = np.arange(8).reshape(2,4)\n",
    " \n",
    "print '原数组：'\n",
    "print a\n",
    "print '\\n'\n",
    "# 默认按行\n",
    " \n",
    "print '展开的数组：'\n",
    "print a.flatten()\n",
    "print '\\n'\n",
    " \n",
    "print '以 F 风格顺序展开的数组：'\n",
    "print a.flatten(order = 'F')"
   ]
  },
  {
   "cell_type": "markdown",
   "metadata": {},
   "source": [
    "## numpy.ravel"
   ]
  },
  {
   "cell_type": "markdown",
   "metadata": {},
   "source": [
    "`numpy.ravel()` 展平的数组元素，顺序通常是\"C风格\"，返回的是数组**视图**，修改会影响原始数组。该函数接收两个参数：\n",
    "\n",
    "`numpy.ravel(a, order='C')`\n",
    "\n",
    "参数说明：`order`：'C' -- 按行，'F' -- 按列，'A' -- 原顺序，'K' -- 元素在内存中的出现顺序"
   ]
  },
  {
   "cell_type": "code",
   "execution_count": null,
   "metadata": {},
   "outputs": [],
   "source": [
    "a = np.arange(8).reshape(2,4)\n",
    " \n",
    "print '原数组：'\n",
    "print a\n",
    "print '\\n'\n",
    "\n",
    "print '调用 ravel 函数之后：'\n",
    "print a.ravel()\n",
    "print '\\n'\n",
    " \n",
    "print '以 F 风格顺序调用 ravel 函数之后：'\n",
    "print a.ravel(order = 'F')"
   ]
  },
  {
   "cell_type": "markdown",
   "metadata": {},
   "source": [
    "# 翻转数组"
   ]
  },
  {
   "cell_type": "markdown",
   "metadata": {},
   "source": [
    "|函数|描述\n",
    "|--|--\n",
    "|`transpose`|数组转置\n",
    "|`ndarray.T`|和 self.transpose() 相同\n",
    "|`rollaxis`|向后滚动指定的轴\n",
    "|`swapaxes`|对换数组的两个轴"
   ]
  },
  {
   "cell_type": "markdown",
   "metadata": {},
   "source": [
    "## `transpose()`"
   ]
  },
  {
   "cell_type": "markdown",
   "metadata": {},
   "source": [
    "使用 `transpose` 返回原数组的另一种view，所以改变转置**会改变原来数组的值**"
   ]
  },
  {
   "cell_type": "code",
   "execution_count": null,
   "metadata": {},
   "outputs": [],
   "source": [
    "a = np.arange(12)\n",
    "a.shape = 3,4\n",
    "print a\n",
    "b = a.transpose() \n",
    "# 或者使用a的缩写属性\n",
    "# b = a.T\n",
    "print b\n",
    "print b.base is a   # 如果内存来自其他对象，则为基础对象\n",
    "b[0,1] = 100\n",
    "print a"
   ]
  },
  {
   "cell_type": "markdown",
   "metadata": {},
   "source": [
    "## numpy.rollaxis\n",
    "`numpy.rollaxis`函数向后滚动特定的轴到一个特定位置，格式如下"
   ]
  },
  {
   "cell_type": "markdown",
   "metadata": {},
   "source": [
    "`numpy.rollaxis(arr, axis, start)`\n",
    "\n",
    "参数说明：\n",
    "\n",
    "* `arr`：数组\n",
    "\n",
    "\n",
    "* `axis`：要向后滚动的轴，其它轴的相对位置不会改变\n",
    "\n",
    "\n",
    "* `start`：默认为零，表示完整的滚动。会滚动到特定位置"
   ]
  },
  {
   "cell_type": "code",
   "execution_count": null,
   "metadata": {},
   "outputs": [],
   "source": [
    "a = np.arange(8).reshape(2,2,2)\n",
    " \n",
    "print '原数组：'\n",
    "print a\n",
    "print '获取数组中一个值：'\n",
    "print np.where(a==6)   \n",
    "print a[1,1,0]  # 为 6\n",
    "print '\\n'\n",
    " \n",
    " \n",
    "# 将轴 2 滚动到轴 0（宽度到深度）\n",
    " \n",
    "print '调用 rollaxis 函数：'\n",
    "b = np.rollaxis(a,2,0)\n",
    "print b\n",
    "# 查看元素 a[1,1,0]，即 6 的坐标，变成 [0, 1, 1]\n",
    "# 最后一个 0 移动到最前面\n",
    "print np.where(b==6) \n",
    "print '\\n'"
   ]
  },
  {
   "cell_type": "markdown",
   "metadata": {},
   "source": [
    "## numpy.swapaxes\n",
    "`numpy.swapaxes`函数用于交换数组的两个轴，格式如下：\n",
    "\n",
    "`numpy.swapaxes(arr, axis1, axis2)`\n",
    "\n",
    "参数说明：\n",
    "\n",
    "`arr`：输入的数组\n",
    "\n",
    "\n",
    "`axis1`：对应第一个轴的整数\n",
    "\n",
    "\n",
    "`axis2`：对应第二个轴的整数"
   ]
  },
  {
   "cell_type": "code",
   "execution_count": null,
   "metadata": {},
   "outputs": [],
   "source": [
    "# 创建了三维的 ndarray\n",
    "a = np.arange(8).reshape(2,2,2)\n",
    " \n",
    "print '原数组：'\n",
    "print a\n",
    "print '\\n'\n",
    "# 现在交换轴 0（深度方向）到轴 2（宽度方向）\n",
    " \n",
    "print '调用 swapaxes 函数后的数组：'\n",
    "print np.swapaxes(a, 2, 0)"
   ]
  },
  {
   "cell_type": "markdown",
   "metadata": {},
   "source": [
    "# 修改数组维度"
   ]
  },
  {
   "cell_type": "markdown",
   "metadata": {},
   "source": [
    "## 使用 newaxis 增加数组维数"
   ]
  },
  {
   "cell_type": "code",
   "execution_count": null,
   "metadata": {},
   "outputs": [],
   "source": [
    "a = np.arange(3)\n",
    "np.shape(a)"
   ]
  },
  {
   "cell_type": "code",
   "execution_count": null,
   "metadata": {},
   "outputs": [],
   "source": [
    "y = a[np.newaxis, :]\n",
    "print y.shape\n",
    "print y"
   ]
  },
  {
   "cell_type": "markdown",
   "metadata": {},
   "source": [
    "根据插入位置的不同，可以返回不同形状的数组："
   ]
  },
  {
   "cell_type": "code",
   "execution_count": null,
   "metadata": {},
   "outputs": [],
   "source": [
    "y = a[:, np.newaxis]\n",
    "y.shape"
   ]
  },
  {
   "cell_type": "markdown",
   "metadata": {},
   "source": [
    "插入多个新维度："
   ]
  },
  {
   "cell_type": "code",
   "execution_count": null,
   "metadata": {},
   "outputs": [],
   "source": [
    "y = a[np.newaxis, np.newaxis, :]\n",
    "y.shape"
   ]
  },
  {
   "cell_type": "markdown",
   "metadata": {},
   "source": [
    "# squeeze 方法去除多余的轴"
   ]
  },
  {
   "cell_type": "code",
   "execution_count": null,
   "metadata": {},
   "outputs": [],
   "source": [
    "a = np.arange(6)\n",
    "a.shape = (2,1,3)"
   ]
  },
  {
   "cell_type": "code",
   "execution_count": null,
   "metadata": {},
   "outputs": [],
   "source": [
    "b = a.squeeze()\n",
    "b.shape"
   ]
  },
  {
   "cell_type": "markdown",
   "metadata": {},
   "source": [
    "# 数组连接和堆叠"
   ]
  },
  {
   "cell_type": "markdown",
   "metadata": {},
   "source": [
    "|函数|描述\n",
    "|--|--\n",
    "|`concatenate`|连接沿现有轴的数组序列\n",
    "|`stack`|沿着新的轴加入一系列数组\n",
    "|`hstack`|水平堆叠序列中的数组\n",
    "|`vstack`|竖直堆叠序列中的数组\n",
    "|`dstack`|深度堆叠序列中的数组"
   ]
  },
  {
   "cell_type": "markdown",
   "metadata": {},
   "source": [
    "注意：`stack()`会**增加数组的维度**，而其他几个函数只用来实现数组的拼接，**不改变数组的维度**"
   ]
  },
  {
   "cell_type": "markdown",
   "metadata": {},
   "source": [
    "### numpy.concatenate"
   ]
  },
  {
   "cell_type": "markdown",
   "metadata": {},
   "source": [
    "`numpy.concatenate `函数用于沿指定轴连接相同形状的两个或多个数组，格式如下"
   ]
  },
  {
   "cell_type": "markdown",
   "metadata": {},
   "source": [
    "`concatenate((a0,a1,...,aN), axis=0)`"
   ]
  },
  {
   "cell_type": "markdown",
   "metadata": {},
   "source": [
    "参数说明：\n",
    "\n",
    "* `a1, a2, ...`：相同类型的数组,这些数组要用 () 包括到一个元组中去\n",
    "* `axis`：沿着它连接数组的轴，默认为 0,如果`axis`被设置为`None`，则数组在使用前会被拉平（不会影响原数组的值）"
   ]
  },
  {
   "cell_type": "markdown",
   "metadata": {},
   "source": [
    "除了给定的轴外，这些数组其他轴的长度必须是一样的"
   ]
  },
  {
   "cell_type": "code",
   "execution_count": null,
   "metadata": {},
   "outputs": [],
   "source": [
    "x = np.array([\n",
    "        [0,1,2],\n",
    "        [10,11,12]\n",
    "    ])\n",
    "y = np.array([\n",
    "        [50,51,52],\n",
    "        [60,61,62]\n",
    "    ])\n",
    "print x.shape\n",
    "print y.shape"
   ]
  },
  {
   "cell_type": "markdown",
   "metadata": {},
   "source": [
    "默认沿着第一维进行连接："
   ]
  },
  {
   "cell_type": "code",
   "execution_count": null,
   "metadata": {},
   "outputs": [],
   "source": [
    "z = np.concatenate((x,y))\n",
    "z"
   ]
  },
  {
   "cell_type": "code",
   "execution_count": null,
   "metadata": {
    "scrolled": true
   },
   "outputs": [],
   "source": [
    "z.shape"
   ]
  },
  {
   "cell_type": "markdown",
   "metadata": {},
   "source": [
    "如果`axis`被设置为`None`，则数组在使用前会被拉平（不会影响原数组的值）"
   ]
  },
  {
   "cell_type": "code",
   "execution_count": null,
   "metadata": {},
   "outputs": [],
   "source": [
    "a = np.array([[1, 2], [3, 4]])\n",
    "b = np.array([[5, 6]])\n",
    "np.concatenate((a, b), axis=None)"
   ]
  },
  {
   "cell_type": "markdown",
   "metadata": {},
   "source": [
    "沿着第二维进行连接："
   ]
  },
  {
   "cell_type": "code",
   "execution_count": null,
   "metadata": {},
   "outputs": [],
   "source": [
    "z = np.concatenate((x,y), axis=1)\n",
    "z"
   ]
  },
  {
   "cell_type": "code",
   "execution_count": null,
   "metadata": {},
   "outputs": [],
   "source": [
    "z.shape"
   ]
  },
  {
   "cell_type": "markdown",
   "metadata": {},
   "source": [
    "注意到这里 `x` 和 `y` 的形状是一样的，还可以将它们连接成三维的数组，但是 `concatenate` 不能提供这样的功能，不过可以这样："
   ]
  },
  {
   "cell_type": "code",
   "execution_count": null,
   "metadata": {},
   "outputs": [],
   "source": [
    "z = np.array((x,y))"
   ]
  },
  {
   "cell_type": "code",
   "execution_count": null,
   "metadata": {},
   "outputs": [],
   "source": [
    "z.shape"
   ]
  },
  {
   "cell_type": "markdown",
   "metadata": {},
   "source": [
    "## numpy.stack"
   ]
  },
  {
   "cell_type": "markdown",
   "metadata": {},
   "source": [
    "通俗理解：https://blog.csdn.net/weixin_44330492/article/details/100126774?utm_medium=distribute.pc_relevant.none-task-blog-BlogCommendFromMachineLearnPai2-1.pc_relevant_is_cache&depth_1-utm_source=distribute.pc_relevant.none-task-blog-BlogCommendFromMachineLearnPai2-1.pc_relevant_is_cache"
   ]
  },
  {
   "cell_type": "markdown",
   "metadata": {},
   "source": [
    "`numpy.stack` 函数用于**沿新轴连接数组序列**，格式如下：\n",
    "\n",
    "`numpy.stack(arrays, axis)`"
   ]
  },
  {
   "cell_type": "markdown",
   "metadata": {},
   "source": [
    "参数说明：\n",
    "\n",
    "* arrays：**相同形状**的数组序列\n",
    "\n",
    "\n",
    "* axis：返回数组中的轴，输入数组沿着它来堆叠"
   ]
  },
  {
   "cell_type": "code",
   "execution_count": null,
   "metadata": {},
   "outputs": [],
   "source": [
    "a = np.array([1, 2, 3])\n",
    "b = np.array([2, 3, 4])\n",
    "\n",
    "print a.shape\n",
    "print b.shape\n",
    "\n",
    "print np.stack((a, b), axis=0)\n",
    "print np.stack((a, b), axis=1)"
   ]
  },
  {
   "cell_type": "markdown",
   "metadata": {},
   "source": [
    "## numpy.hstack"
   ]
  },
  {
   "cell_type": "markdown",
   "metadata": {},
   "source": [
    "`numpy.hstack` 是` numpy.stack `函数的变体，它通过**水平堆叠**来生成数组"
   ]
  },
  {
   "cell_type": "code",
   "execution_count": null,
   "metadata": {},
   "outputs": [],
   "source": [
    "import numpy as np\n",
    " \n",
    "a = np.array([[1,2],[3,4]])\n",
    " \n",
    "print '第一个数组：'\n",
    "print a\n",
    "print '\\n'\n",
    "b = np.array([[5,6],[7,8]])\n",
    " \n",
    "print '第二个数组：'\n",
    "print b\n",
    "print '\\n'\n",
    " \n",
    "print '水平堆叠：'\n",
    "c = np.hstack((a,b))\n",
    "print c\n",
    "print '\\n'"
   ]
  },
  {
   "cell_type": "markdown",
   "metadata": {},
   "source": [
    "## numpy.vstack"
   ]
  },
  {
   "cell_type": "markdown",
   "metadata": {},
   "source": [
    "`numpy.vstack` 是 `numpy.stack` 函数的变体，它通过**垂直堆叠**来生成数组"
   ]
  },
  {
   "cell_type": "code",
   "execution_count": null,
   "metadata": {},
   "outputs": [],
   "source": [
    "a = np.array([[1,2],[3,4]])\n",
    " \n",
    "print '第一个数组：'\n",
    "print a\n",
    "print '\\n'\n",
    "b = np.array([[5,6],[7,8]])\n",
    " \n",
    "print '第二个数组：'\n",
    "print b\n",
    "print '\\n'\n",
    " \n",
    "print '竖直堆叠：'\n",
    "c = np.vstack((a,b))\n",
    "print c"
   ]
  },
  {
   "cell_type": "markdown",
   "metadata": {},
   "source": [
    "## numpy.dstack"
   ]
  },
  {
   "cell_type": "markdown",
   "metadata": {},
   "source": [
    "`numpy.dstack` 是 `numpy.stack` 函数的变体，它通过**深度堆叠**来生成数组"
   ]
  },
  {
   "cell_type": "markdown",
   "metadata": {},
   "source": [
    "# 分割数组"
   ]
  },
  {
   "cell_type": "markdown",
   "metadata": {},
   "source": [
    "|函数|描述\n",
    "|--|--\n",
    "|`split`|将一个数组分割为多个子数组\n",
    "|`hsplit`|将一个数组水平分割为多个子数组（按列）\n",
    "|`vsplit`|将一个数组垂直分割为多个子数组（按行）"
   ]
  },
  {
   "cell_type": "markdown",
   "metadata": {},
   "source": [
    "## numpy.split"
   ]
  },
  {
   "cell_type": "markdown",
   "metadata": {},
   "source": [
    "`numpy.split `函数沿特定的轴将数组分割为子数组，格式如下：\n",
    "\n",
    "`numpy.split(ary, indices_or_sections, axis)`\n",
    "参数说明：\n",
    "\n",
    "* `ary`：被分割的数组\n",
    "\n",
    "\n",
    "* `indices_or_sections`：如果是一个整数，就用该数平均切分，如果是一个数组，为沿轴切分的位置（左开右闭）\n",
    "\n",
    "\n",
    "* `axis`：沿着哪个维度进行切向，默认为0，横向切分。为1时，纵向切分"
   ]
  },
  {
   "cell_type": "code",
   "execution_count": null,
   "metadata": {},
   "outputs": [],
   "source": [
    "a = np.arange(9)\n",
    " \n",
    "print '第一个数组：'\n",
    "print a\n",
    "print '\\n'\n",
    " \n",
    "print '将数组分为三个大小相等的子数组：'\n",
    "b = np.split(a,3)\n",
    "print b\n",
    "print '\\n'\n",
    " \n",
    "print '将数组在一维数组中表明的位置分割：'\n",
    "b = np.split(a,[4,7])\n",
    "print b"
   ]
  },
  {
   "cell_type": "markdown",
   "metadata": {},
   "source": [
    "## numpy.hsplit"
   ]
  },
  {
   "cell_type": "markdown",
   "metadata": {},
   "source": [
    "`numpy.hsplit`函数用于水平分割数组，通过**指定要返回的相同形状的数组数量**来拆分原数组"
   ]
  },
  {
   "cell_type": "code",
   "execution_count": null,
   "metadata": {},
   "outputs": [],
   "source": [
    "a = np.arange(16).reshape(4,4)\n",
    "print a\n",
    "print np.hsplit(a,2) "
   ]
  },
  {
   "cell_type": "markdown",
   "metadata": {},
   "source": [
    "## numpy.vsplit"
   ]
  },
  {
   "cell_type": "markdown",
   "metadata": {},
   "source": [
    "`numpy.vsplit` **沿着**垂直轴分割，其分割方式与hsplit用法相同"
   ]
  },
  {
   "cell_type": "code",
   "execution_count": null,
   "metadata": {},
   "outputs": [],
   "source": [
    "a = np.arange(16).reshape(4,4)\n",
    " \n",
    "print '第一个数组：'\n",
    "print a\n",
    "print '\\n'\n",
    " \n",
    "print '竖直分割：'\n",
    "b = np.vsplit(a,2)\n",
    "print b"
   ]
  }
 ],
 "metadata": {
  "kernelspec": {
   "display_name": "Python 2",
   "language": "python",
   "name": "python2"
  },
  "language_info": {
   "codemirror_mode": {
    "name": "ipython",
    "version": 2
   },
   "file_extension": ".py",
   "mimetype": "text/x-python",
   "name": "python",
   "nbconvert_exporter": "python",
   "pygments_lexer": "ipython2",
   "version": "2.7.13"
  }
 },
 "nbformat": 4,
 "nbformat_minor": 2
}
