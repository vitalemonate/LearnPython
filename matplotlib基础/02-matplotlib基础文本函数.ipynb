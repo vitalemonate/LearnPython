{
 "cells": [
  {
   "cell_type": "markdown",
   "metadata": {},
   "source": [
    "# 处理文本（基础）"
   ]
  },
  {
   "cell_type": "code",
   "execution_count": null,
   "metadata": {},
   "outputs": [],
   "source": [
    "import matplotlib.pyplot as plt\n",
    "import numpy as np\n",
    "%matplotlib inline"
   ]
  },
  {
   "cell_type": "markdown",
   "metadata": {},
   "source": [
    "`matplotlib` 对文本的支持十分完善，包括数学公式，`Unicode` 文字，栅格和向量化输出，文字换行，文字旋转等一系列操作。"
   ]
  },
  {
   "cell_type": "markdown",
   "metadata": {},
   "source": [
    "## 基础文本函数"
   ]
  },
  {
   "cell_type": "markdown",
   "metadata": {},
   "source": [
    "在 `matplotlib.pyplot` 中，基础的文本函数如下：\n",
    "\n",
    "- `xlabel()` 添加 `x` 轴标题\n",
    "- `ylabel()` 添加 `y` 轴标题\n",
    "- `title()` 给 `Axes` 对象添加标题\n",
    "- `suptitle()` 给 `Figure` 对象添加标题\n",
    "- `ax.set_title()` 给指定的子图设置标题\n",
    "- `figtext()` 在 `Figure` 对象的任意位置添加文本\n",
    "- `text()` 在 `Axes` 对象的**任意位置**添加文本\n",
    "- `anotate()` 给 `Axes` 对象添加注释（可选择是否添加箭头标记）"
   ]
  },
  {
   "cell_type": "markdown",
   "metadata": {},
   "source": [
    "## 注释文本"
   ]
  },
  {
   "cell_type": "markdown",
   "metadata": {},
   "source": [
    "`text() `函数在` Axes` 对象的**指定位置**添加文本，而 `annotate()` 则是对**某一点**添加注释文本，需要考虑两个位置：一是**注释点的坐标** `xy` ，二是**注释文本的位置坐标** `xytext`："
   ]
  },
  {
   "cell_type": "code",
   "execution_count": null,
   "metadata": {},
   "outputs": [],
   "source": [
    "fig = plt.figure()\n",
    "ax = fig.add_subplot(111)\n",
    "\n",
    "t = np.arange(0.0, 5.0, 0.01)\n",
    "s = np.cos(2*np.pi*t)\n",
    "line, = ax.plot(t, s, lw=2)\n",
    "\n",
    "ax.text(1.5,-1,\"local min\")\n",
    "# 注释点的位置为(2,1),注释文本的位置为(3,1.5), arrowprops设置箭头参数\n",
    "ax.annotate('local max', xy=(2, 1), xytext=(3, 1.5),\n",
    "            arrowprops=dict(facecolor='black', shrink=0.05),\n",
    "            )\n",
    "\n",
    "ax.set_ylim(-2,2)\n",
    "plt.show()"
   ]
  },
  {
   "cell_type": "markdown",
   "metadata": {},
   "source": [
    "## 标题"
   ]
  },
  {
   "cell_type": "markdown",
   "metadata": {},
   "source": [
    "### 一个图添加title"
   ]
  },
  {
   "cell_type": "code",
   "execution_count": null,
   "metadata": {},
   "outputs": [],
   "source": [
    "mu, sigma = 100, 15\n",
    "x = mu + sigma * np.random.randn(10000)\n",
    "\n",
    "# the histogram of the data\n",
    "n, bins, patches = plt.hist(x, 50, normed=1, facecolor='g', alpha=0.75)\n",
    "\n",
    "plt.xlabel('Smarts')\n",
    "plt.ylabel('Probability')\n",
    "plt.title('Histogram of IQ')\n",
    "plt.axis([40, 160, 0, 0.03])\n",
    "plt.grid(True)\n",
    "plt.show()"
   ]
  },
  {
   "cell_type": "markdown",
   "metadata": {},
   "source": [
    "### 为多个子图添加title"
   ]
  },
  {
   "cell_type": "code",
   "execution_count": null,
   "metadata": {},
   "outputs": [],
   "source": [
    "import numpy as np\n",
    "import matplotlib.pyplot as plt\n",
    "\n",
    "# constrained_layout参数解决主标题与子标题重叠的问题\n",
    "fig, ax = plt.subplots(1, 2, figsize=(8, 3), constrained_layout=True)\n",
    "\n",
    "data = np.random.normal(0, 1, 100)\n",
    "fig.suptitle('Comparison of distribution in different pieces',fontweight='bold')\n",
    "\n",
    "ax[0].set_title('Original distributions')\n",
    "ax[0].set_xlabel('xlabel', fontsize=12)\n",
    "ax[0].set_ylabel('ylabel', fontsize=12)\n",
    "ax[0].hist(x=data, density=True, edgecolor='k')\n",
    "\n",
    "ax[1].set_title('Standardized distribution')\n",
    "ax[1].set_xlabel('xlabel', fontsize=12)\n",
    "ax[1].set_ylabel('ylabel', fontsize=12)\n",
    "ax[1].hist(x=data, density=True, edgecolor='k')\n",
    "\n",
    "plt.show()"
   ]
  },
  {
   "cell_type": "markdown",
   "metadata": {},
   "source": [
    "### 综合练习"
   ]
  },
  {
   "cell_type": "code",
   "execution_count": null,
   "metadata": {},
   "outputs": [],
   "source": [
    "# Axes 对象表示 Figure 对象中的子图\n",
    "# 这里只有一幅图像，所以使用 add_subplot(111)\n",
    "fig = plt.figure(figsize=(12, 9))\n",
    "ax = fig.add_subplot(111)\n",
    "fig.subplots_adjust(top=0.85)\n",
    "\n",
    "# 可以直接使用 set_xxx 的方法来设置标题\n",
    "ax.set_title('axes title')\n",
    "# 也可以直接调用 title()，因为会自动定位到当前的 Axes 对象\n",
    "# plt.title('axes title')\n",
    "\n",
    "ax.set_xlabel('xlabel')\n",
    "ax.set_ylabel('ylabel')\n",
    "\n",
    "# 添加文本，斜体加文本框\n",
    "ax.text(3, 8, 'boxed italics text in data coords', style='italic',\n",
    "        bbox={'facecolor':'red', 'alpha':0.5, 'pad':10})\n",
    "\n",
    "# 数学公式，用 $$ 输入 Tex 公式\n",
    "ax.text(2, 6, r'an equation: $E=mc^2$', fontsize=15)\n",
    "\n",
    "# Unicode 支持\n",
    "ax.text(3, 2, unicode('unicode: Institut f\\374r Festk\\366rperphysik', 'latin-1'))\n",
    "\n",
    "# 颜色，对齐方式\n",
    "ax.text(0.95, 0.01, 'colored text in axes coords',\n",
    "        verticalalignment='bottom', horizontalalignment='right',\n",
    "        transform=ax.transAxes,\n",
    "        color='green', fontsize=15)\n",
    "\n",
    "# 注释文本和箭头\n",
    "ax.plot([2], [1], 'o')\n",
    "ax.annotate('annotate', xy=(2, 1), xytext=(3, 4),\n",
    "            arrowprops=dict(facecolor='black', shrink=0.05))\n",
    "\n",
    "# 设置显示范围\n",
    "ax.axis([0, 10, 0, 10])\n",
    "\n",
    "plt.show()"
   ]
  }
 ],
 "metadata": {
  "kernelspec": {
   "display_name": "Python 2",
   "language": "python",
   "name": "python2"
  },
  "language_info": {
   "codemirror_mode": {
    "name": "ipython",
    "version": 2
   },
   "file_extension": ".py",
   "mimetype": "text/x-python",
   "name": "python",
   "nbconvert_exporter": "python",
   "pygments_lexer": "ipython2",
   "version": "2.7.13"
  }
 },
 "nbformat": 4,
 "nbformat_minor": 2
}
