{
 "cells": [
  {
   "cell_type": "markdown",
   "metadata": {
    "collapsed": true
   },
   "source": [
    "## 子图"
   ]
  },
  {
   "cell_type": "markdown",
   "metadata": {},
   "source": [
    "`matplotlib`下, 一个` Figure `对象可以包含多个**子图(Axes)**, 可以使用 `subplot()` 快速绘制, 其调用形式如下"
   ]
  },
  {
   "cell_type": "markdown",
   "metadata": {},
   "source": [
    "`subplot(nrows, ncols, index, **kwargs)`"
   ]
  },
  {
   "cell_type": "markdown",
   "metadata": {},
   "source": [
    "图表的整个绘图区域被分成 `nrows` 行和 `ncols` 列, 然后按照从左到右，从上到下的顺序对每个子区域进行编号, **index**参数指定创建的 **Axes**对象所在的区域，如果新创建的轴和之前创建的轴重叠的话，之前的轴将被删除\n",
    "\n",
    "当 `numrows * numcols < 10` 时，中间的逗号可以省略，因此 `plt.subplot(211)` 就相当于 `plt.subplot(2,1,1)`"
   ]
  },
  {
   "cell_type": "code",
   "execution_count": null,
   "metadata": {},
   "outputs": [],
   "source": [
    "import numpy as np\n",
    "import matplotlib.pyplot as plt\n",
    "%matplotlib inline"
   ]
  },
  {
   "cell_type": "markdown",
   "metadata": {},
   "source": [
    "## 规则的子图"
   ]
  },
  {
   "cell_type": "code",
   "execution_count": null,
   "metadata": {},
   "outputs": [],
   "source": [
    "def f(t):\n",
    "    return np.exp(-t) * np.cos(2*np.pi*t)\n",
    "\n",
    "t1 = np.arange(0.0, 5.0, 0.1)\n",
    "t2 = np.arange(0.0, 5.0, 0.02)\n",
    "\n",
    "plt.figure(1)\n",
    "plt.subplot(211)\n",
    "plt.plot(t1, f(t1), 'bo', t2, f(t2), 'k')\n",
    "\n",
    "plt.subplot(212)\n",
    "plt.plot(t2, np.cos(2*np.pi*t2), 'r--')\n",
    "plt.show()"
   ]
  },
  {
   "cell_type": "markdown",
   "metadata": {},
   "source": [
    "## 不规则的子图"
   ]
  },
  {
   "cell_type": "code",
   "execution_count": null,
   "metadata": {},
   "outputs": [],
   "source": [
    "def f(t):\n",
    "    return np.exp(-t) * np.cos(2 * np.pi * t)\n",
    "\n",
    "t1 = np.arange(0, 5, 0.1)\n",
    "t2 = np.arange(0, 5, 0.02)\n",
    "\n",
    "plt.figure(12)\n",
    "plt.subplot(221)\n",
    "plt.plot(t1, f(t1), 'bo', t2, f(t2), 'r--')\n",
    "\n",
    "plt.subplot(222)\n",
    "plt.plot(t2, np.cos(2 * np.pi * t2), 'r--')\n",
    "\n",
    "# 需要对其重新划分, 按照 2 * 1 划分\n",
    "# 前两个图占用了 (2, 1, 1) 的位置\n",
    "# 因此第三个图占用了 (2, 1, 2) 的位置\n",
    "plt.subplot(212)\n",
    "plt.plot([1, 2, 3, 4], [1, 4, 9, 16])"
   ]
  },
  {
   "cell_type": "markdown",
   "metadata": {},
   "source": [
    "## subplots"
   ]
  },
  {
   "cell_type": "markdown",
   "metadata": {},
   "source": [
    "`plt.subplots()`是创建一个图表并返回包含**图形**和**轴对象的元组**的函数，官方文档中的函数定义为："
   ]
  },
  {
   "cell_type": "markdown",
   "metadata": {},
   "source": [
    "`subplots(self, nrows=1, ncols=1, *, sharex=False, sharey=False, squeeze=True, subplot_kw=None, gridspec_kw=None)`\n",
    "\n",
    "参数说明：\n",
    "\n",
    "    Controls sharing of properties among x (sharex) or y (sharey) axes:\n",
    "\n",
    "    1 True or 'all': x- or y-axis will be shared among all subplots.\n",
    "\n",
    "    2 False or 'none': each subplot x- or y-axis will be independent.\n",
    "\n",
    "    3 'row': each subplot row will share an x- or y-axis.\n",
    "\n",
    "    4 'col': each subplot column will share an x- or y-axis."
   ]
  },
  {
   "cell_type": "markdown",
   "metadata": {},
   "source": [
    "### 返回值"
   ]
  },
  {
   "cell_type": "code",
   "execution_count": null,
   "metadata": {},
   "outputs": [],
   "source": [
    "#在一个图形对象中设置一组带有网格(2,2)的子图\n",
    "fig, ax = plt.subplots()"
   ]
  },
  {
   "cell_type": "markdown",
   "metadata": {},
   "source": [
    "如上例所示，`plt.subplots`返回的是一个**元组**(`plt.subplot`只能返回一个`axe`), 这个元组中包含了一个**figure对象和axes对象**集合。\n",
    "\n",
    "因此，`fig, ax = plt.subplots()`相当于把返回的` tuple `解压（unpack）成`fig` 和` ax `两个变量。\n",
    "\n",
    "* `fig `变量可以让我们可以修改 `figure` 层级的属性或者将 `figure` 保存成图片，例如：`fig.savefig('thefilename.png')`。\n",
    "\n",
    "* `ax` 变量中保存着所有子图的可操作 `axe` 对象"
   ]
  },
  {
   "cell_type": "code",
   "execution_count": null,
   "metadata": {},
   "outputs": [],
   "source": [
    "fig, ax1, ax2, ax3, ax4 = plt.subplots(nrows=2, ncols=2)"
   ]
  },
  {
   "cell_type": "markdown",
   "metadata": {},
   "source": [
    "它引发了一个错误,但不用担心,因为我们现在看到`plt.subplots()`实际上返回了一个包含`两个元素`的元组。第一个必须是一个`图形对象`(**Figure**),另一个应该是`一组子图对象`(**AxesSubplot**)"
   ]
  },
  {
   "cell_type": "markdown",
   "metadata": {},
   "source": [
    "必须**保持列表的构造**与我们在图中设置的**子图网格**相同"
   ]
  },
  {
   "cell_type": "code",
   "execution_count": null,
   "metadata": {},
   "outputs": [],
   "source": [
    "#如果写成 fig1, [ax1, ax2, ax3, ax4] = plt.subplots(nrows=2, ncols=2)会报错\n",
    "# fig1, [[ax1, ax2], [ax3, ax4]] = plt.subplots(nrows=2, ncols=2)\n",
    "fig1, axes = plt.subplots(nrows=2, ncols=2)\n",
    "axes[0,0].plot(x,y)\n",
    "\n",
    "fig2, [ax5, ax6, ax7, ax8] = plt.subplots(nrows=1, ncols=4)\n",
    "\n",
    "print type(fig1)\n",
    "print type(ax5)"
   ]
  },
  {
   "cell_type": "code",
   "execution_count": null,
   "metadata": {},
   "outputs": [],
   "source": [
    "# 当有很多子图时,有两种使用索引方式：\n",
    "# 1.对axes进行二维索引：\n",
    "fig,axes = plt.subplots(nrows = 10,ncols = 3)\n",
    "axes[0,0].plot(x,y)\n",
    "\n",
    "# 2.将axes拉平为一维数组\n",
    "# 现在可以用它的索引来引用每个子图: axes [0],axes [1],…\n",
    "axes = axes.flatten()\n",
    "axes[1].plot(x,y*y)"
   ]
  },
  {
   "cell_type": "markdown",
   "metadata": {},
   "source": [
    "### sharex&sharey"
   ]
  },
  {
   "cell_type": "code",
   "execution_count": null,
   "metadata": {},
   "outputs": [],
   "source": [
    "x = np.linspace(0, 2 * np.pi, 400)\n",
    "y = np.sin(x ** 2)"
   ]
  },
  {
   "cell_type": "code",
   "execution_count": null,
   "metadata": {},
   "outputs": [],
   "source": [
    "f, ((ax1, ax2), (ax3, ax4)) = plt.subplots(2, 2, sharex='col', sharey='row')\n",
    "f.suptitle('Sharing x per column, y per row')\n",
    "ax1.plot(x, y)\n",
    "ax2.scatter(x, y)\n",
    "ax3.scatter(x, 2 * y ** 2 - 1, color='r')\n",
    "ax4.plot(x, 2 * y ** 2 - 1, color='r')"
   ]
  }
 ],
 "metadata": {
  "kernelspec": {
   "display_name": "Python 2",
   "language": "python",
   "name": "python2"
  },
  "language_info": {
   "codemirror_mode": {
    "name": "ipython",
    "version": 2
   },
   "file_extension": ".py",
   "mimetype": "text/x-python",
   "name": "python",
   "nbconvert_exporter": "python",
   "pygments_lexer": "ipython2",
   "version": "2.7.13"
  }
 },
 "nbformat": 4,
 "nbformat_minor": 2
}
