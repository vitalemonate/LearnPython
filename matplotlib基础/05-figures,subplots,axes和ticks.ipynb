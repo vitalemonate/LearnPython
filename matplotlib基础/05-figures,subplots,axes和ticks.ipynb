{
 "cells": [
  {
   "cell_type": "markdown",
   "metadata": {},
   "source": [
    "# figures, subplots, axes 和 ticks 对象"
   ]
  },
  {
   "cell_type": "markdown",
   "metadata": {},
   "source": [
    "## figures, axes 和 ticks 的关系"
   ]
  },
  {
   "cell_type": "markdown",
   "metadata": {},
   "source": [
    "这些对象的关系可以用下面的图来表示：\n",
    "\n",
    "示例图像：\n",
    "\n",
    "<img src=\"./artists_figure.png\" width = \"600\" height = \"400\" alt=\"图1\" align=left />"
   ]
  },
  {
   "cell_type": "markdown",
   "metadata": {},
   "source": [
    "具体结构：\n",
    "\n",
    "<img src=\"./artists_tree.png\" width = \"600\" height = \"400\" alt=\"图2\" align=left />"
   ]
  },
  {
   "cell_type": "markdown",
   "metadata": {},
   "source": [
    "## figure 对象"
   ]
  },
  {
   "cell_type": "markdown",
   "metadata": {},
   "source": [
    "`figure` 对象是最外层的绘图单位，默认是以 `1` 开始编号（**MATLAB** 风格，`Figure 1, Figure 2, ...`），可以用 `plt.figure()` 产生一幅图像，除了默认参数外，可以指定的参数有：\n",
    "\n",
    "- `num` - 编号\n",
    "- `figsize` - 图像大小\n",
    "- `dpi` - 分辨率\n",
    "- `facecolor` - 背景色\n",
    "- `edgecolor` - 边界颜色\n",
    "- `frameon` - 边框\n",
    "\n",
    "这些属性也可以通过 `Figure` 对象的 `set_xxx` 方法来改变。"
   ]
  },
  {
   "cell_type": "markdown",
   "metadata": {},
   "source": [
    "## subplot 和 axes 对象"
   ]
  },
  {
   "cell_type": "markdown",
   "metadata": {},
   "source": [
    "### subplot"
   ]
  },
  {
   "cell_type": "markdown",
   "metadata": {},
   "source": [
    "`subplot` 主要是使用网格排列子图："
   ]
  },
  {
   "cell_type": "code",
   "execution_count": null,
   "metadata": {},
   "outputs": [],
   "source": [
    "%pylab inline\n",
    "\n",
    "subplot(2,1,1)\n",
    "xticks([]), yticks([])\n",
    "text(0.5,0.5, 'subplot(2,1,1)',ha='center',va='center',size=24,alpha=.5)\n",
    "\n",
    "subplot(2,1,2)\n",
    "xticks([]), yticks([])\n",
    "text(0.5,0.5, 'subplot(2,1,2)',ha='center',va='center',size=24,alpha=.5)\n",
    "\n",
    "show()"
   ]
  },
  {
   "cell_type": "markdown",
   "metadata": {},
   "source": [
    "更高级的可以用 `gridspec` 来绘图："
   ]
  },
  {
   "cell_type": "code",
   "execution_count": null,
   "metadata": {},
   "outputs": [],
   "source": [
    "import matplotlib.gridspec as gridspec\n",
    "\n",
    "G = gridspec.GridSpec(3, 3)\n",
    "\n",
    "axes_1 = subplot(G[0, :])\n",
    "xticks([]), yticks([])\n",
    "text(0.5,0.5, 'Axes 1',ha='center',va='center',size=24,alpha=.5)\n",
    "\n",
    "axes_2 = subplot(G[1,:-1])\n",
    "xticks([]), yticks([])\n",
    "text(0.5,0.5, 'Axes 2',ha='center',va='center',size=24,alpha=.5)\n",
    "\n",
    "axes_3 = subplot(G[1:, -1])\n",
    "xticks([]), yticks([])\n",
    "text(0.5,0.5, 'Axes 3',ha='center',va='center',size=24,alpha=.5)\n",
    "\n",
    "axes_4 = subplot(G[-1,0])\n",
    "xticks([]), yticks([])\n",
    "text(0.5,0.5, 'Axes 4',ha='center',va='center',size=24,alpha=.5)\n",
    "\n",
    "axes_5 = subplot(G[-1,-2])\n",
    "xticks([]), yticks([])\n",
    "text(0.5,0.5, 'Axes 5',ha='center',va='center',size=24,alpha=.5)\n",
    "\n",
    "show()"
   ]
  },
  {
   "cell_type": "markdown",
   "metadata": {},
   "source": [
    "## axes 对象"
   ]
  },
  {
   "cell_type": "markdown",
   "metadata": {},
   "source": [
    "`subplot` 返回的是 `Axes` 对象，但是 `Axes` 对象相对于 `subplot` 返回的对象来说要更自由一点。`Axes` 对象可以放置在图像中的任意位置："
   ]
  },
  {
   "cell_type": "code",
   "execution_count": null,
   "metadata": {},
   "outputs": [],
   "source": [
    "axes([0.1,0.1,.8,.8])\n",
    "xticks([]), yticks([])\n",
    "text(0.6,0.6, 'axes([0.1,0.1,.8,.8])',ha='center',va='center',size=20,alpha=.5)\n",
    "\n",
    "axes([0.2,0.2,.3,.3])\n",
    "xticks([]), yticks([])\n",
    "text(0.5,0.5, 'axes([0.2,0.2,.3,.3])',ha='center',va='center',size=16,alpha=.5)\n",
    "\n",
    "show()"
   ]
  },
  {
   "cell_type": "code",
   "execution_count": null,
   "metadata": {},
   "outputs": [],
   "source": [
    "axes([0.1,0.1,.5,.5])\n",
    "xticks([]), yticks([])\n",
    "text(0.1,0.1, 'axes([0.1,0.1,.8,.8])',ha='left',va='center',size=16,alpha=.5)\n",
    "\n",
    "axes([0.2,0.2,.5,.5])\n",
    "xticks([]), yticks([])\n",
    "text(0.1,0.1, 'axes([0.2,0.2,.5,.5])',ha='left',va='center',size=16,alpha=.5)\n",
    "\n",
    "axes([0.3,0.3,.5,.5])\n",
    "xticks([]), yticks([])\n",
    "text(0.1,0.1, 'axes([0.3,0.3,.5,.5])',ha='left',va='center',size=16,alpha=.5)\n",
    "\n",
    "axes([0.4,0.4,.5,.5])\n",
    "xticks([]), yticks([])\n",
    "text(0.1,0.1, 'axes([0.4,0.4,.5,.5])',ha='left',va='center',size=16,alpha=.5)\n",
    "\n",
    "show()"
   ]
  },
  {
   "cell_type": "markdown",
   "metadata": {},
   "source": [
    "后面的 `Axes` 对象会覆盖前面的内容。"
   ]
  },
  {
   "cell_type": "markdown",
   "metadata": {},
   "source": [
    "## ticks 对象"
   ]
  },
  {
   "cell_type": "markdown",
   "metadata": {},
   "source": [
    "ticks 用来注释轴的内容，我们可以通过控制它的属性来决定在哪里显示轴、轴的内容是什么等等。"
   ]
  },
  {
   "cell_type": "markdown",
   "metadata": {},
   "source": [
    "## 移动坐标轴的位置"
   ]
  },
  {
   "cell_type": "markdown",
   "metadata": {},
   "source": [
    "默认情况下坐标轴的位置是在边界上，而且有上下左右四条，我们现在想将下面和左边的两条移动到中间，并将右边和上面的两条去掉："
   ]
  },
  {
   "cell_type": "code",
   "execution_count": null,
   "metadata": {},
   "outputs": [],
   "source": [
    "import numpy as np\n",
    "import matplotlib.pyplot as plt\n",
    "%matplotlib inline\n",
    "\n",
    "x = np.linspace(-np.pi, np.pi)\n",
    "c, s = np.cos(x), np.sin(x)\n",
    "\n",
    "# 设置图像大小\n",
    "f = plt.figure(figsize=(10,6), dpi=80)\n",
    "\n",
    "# 画图，指定颜色，线宽，类型\n",
    "plt.plot(x, c, 'b-', \n",
    "         x, s, 'r-', linewidth=2.5)\n",
    "\n",
    "# 设置显示范围\n",
    "plt.xlim(x.min() * 1.1, x.max() * 1.1)\n",
    "plt.ylim(c.min() * 1.1, c.max() * 1.1)\n",
    "\n",
    "# 得到轴的句柄\n",
    "ax = plt.gca()\n",
    "# ax.spines参数表示四个坐标轴线\n",
    "# 将右边和上边的颜色设为透明\n",
    "ax.spines['right'].set_color('none')\n",
    "ax.spines['top'].set_color('none')\n",
    "\n",
    "###################################################################################\n",
    "\n",
    "# 将 x 轴的刻度设置在下面的坐标轴上\n",
    "ax.xaxis.set_ticks_position('bottom')\n",
    "# 设置位置\n",
    "ax.spines['bottom'].set_position(('data',0))\n",
    "\n",
    "# 将 y 轴的刻度设置在左边的坐标轴上\n",
    "ax.yaxis.set_ticks_position('left')\n",
    "# 设置位置\n",
    "ax.spines['left'].set_position(('data',0))\n",
    "\n",
    "###################################################################################\n",
    "\n",
    "# 设置刻度及其标识\n",
    "p = plt.xticks([-np.pi, -np.pi/2, 0, np.pi/2, np.pi], \n",
    "           ['$-\\pi$', '$-\\pi/2$', '$0$', '$\\pi/2$', '$\\pi$'], fontsize ='xx-large')\n",
    "p = plt.yticks([-1, 0, 1], \n",
    "           ['$-1$', '$0$', '$+1$'], fontsize ='xx-large')\n",
    "\n",
    "# 在脚本中需要加上这句才会显示图像\n",
    "# plt.show()"
   ]
  }
 ],
 "metadata": {
  "kernelspec": {
   "display_name": "Python 2",
   "language": "python",
   "name": "python2"
  },
  "language_info": {
   "codemirror_mode": {
    "name": "ipython",
    "version": 2
   },
   "file_extension": ".py",
   "mimetype": "text/x-python",
   "name": "python",
   "nbconvert_exporter": "python",
   "pygments_lexer": "ipython2",
   "version": "2.7.13"
  }
 },
 "nbformat": 4,
 "nbformat_minor": 1
}
