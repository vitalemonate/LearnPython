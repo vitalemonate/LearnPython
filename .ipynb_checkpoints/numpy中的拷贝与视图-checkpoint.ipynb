{
 "cells": [
  {
   "cell_type": "markdown",
   "metadata": {},
   "source": [
    "# numpy中的拷贝与视图"
   ]
  },
  {
   "cell_type": "markdown",
   "metadata": {},
   "source": [
    "拷贝一般发生在：\n",
    "\n",
    "* **Python序列**的切片操作，调用deepCopy()函数\n",
    "\n",
    "\n",
    "* 调用 ndarray 的 copy() 函数产生一个副本\n",
    "\n",
    "视图一般发生在：\n",
    "\n",
    "* numpy 的切片操作返回原数据的视图\n",
    "\n",
    "\n",
    "* 调用 ndarray 的 view() 函数产生一个视图"
   ]
  },
  {
   "cell_type": "markdown",
   "metadata": {},
   "source": [
    "当计算和操作数组时，有时会将数据复制到新数组中，有时则不会。这通常是初学者混淆的根源。有三种情况\n",
    "* 完全不复制\n",
    "\n",
    "\n",
    "* 视图（浅拷贝）\n",
    "\n",
    "\n",
    "* 深拷贝"
   ]
  },
  {
   "cell_type": "markdown",
   "metadata": {},
   "source": [
    "## 完全不复制"
   ]
  },
  {
   "cell_type": "code",
   "execution_count": null,
   "metadata": {},
   "outputs": [],
   "source": [
    "import numpy as np"
   ]
  },
  {
   "cell_type": "code",
   "execution_count": null,
   "metadata": {},
   "outputs": [],
   "source": [
    "a = np.arange(12)\n",
    "b = a                  # no new object is created\n",
    "print b is a           # a and b are two names for the same ndarray object\n",
    "\n",
    "b.shape = 3,4          # changes the shape of b\n",
    "print a.shape"
   ]
  },
  {
   "cell_type": "markdown",
   "metadata": {},
   "source": [
    "Python将可变对象作为引用传递，因此函数调用不会复制"
   ]
  },
  {
   "cell_type": "code",
   "execution_count": null,
   "metadata": {},
   "outputs": [],
   "source": [
    "def f(x):\n",
    "    print(id(x))\n",
    "\n",
    "print id(a)                           # id is a unique identifier of an object\n",
    "f(a)"
   ]
  },
  {
   "cell_type": "markdown",
   "metadata": {},
   "source": [
    "## 视图或浅拷贝"
   ]
  },
  {
   "cell_type": "markdown",
   "metadata": {},
   "source": [
    "不同的数组对象可以共享相同的数据。该`view`方法创建一个查看相同数据的新数组对象"
   ]
  },
  {
   "cell_type": "code",
   "execution_count": null,
   "metadata": {},
   "outputs": [],
   "source": [
    "c = a.view()\n",
    "print c is a\n",
    "print c.base is a                        # c is a view of the data owned by a\n",
    "print c.flags.owndata\n",
    "c.shape = 2,6                      # a's shape doesn't change\n",
    "a.shape\n",
    "c[0,4] = 1234                      # a's data changes\n",
    "print a"
   ]
  },
  {
   "cell_type": "markdown",
   "metadata": {},
   "source": [
    "切片数组会返回一个视图："
   ]
  },
  {
   "cell_type": "code",
   "execution_count": null,
   "metadata": {},
   "outputs": [],
   "source": [
    "s = a[ : , 1:3]     # spaces added for clarity; could also be written \"s = a[:,1:3]\"\n",
    "s[:] = 10           # s[:] is a view of s. Note the difference between s=10 and s[:]=10\n",
    "print a"
   ]
  },
  {
   "cell_type": "markdown",
   "metadata": {},
   "source": [
    "## 深拷贝"
   ]
  },
  {
   "cell_type": "markdown",
   "metadata": {},
   "source": [
    "使用`copy()`方法生成数组及其数据的完整副本"
   ]
  },
  {
   "cell_type": "code",
   "execution_count": null,
   "metadata": {},
   "outputs": [],
   "source": [
    "d = a.copy()                        # a new array object with new data is created\n",
    "print d is a\n",
    "print d.base is a                   # d doesn't share anything with a\n",
    "d[0,0] = 9999\n",
    "print  a"
   ]
  },
  {
   "cell_type": "markdown",
   "metadata": {},
   "source": [
    "有时，如果不再需要原始数组，则应在切片后调用 copy。例如，假设a是一个巨大的中间结果，最终结果b只包含a的一小部分，那么在用切片构造b时应该做一个深拷贝："
   ]
  },
  {
   "cell_type": "code",
   "execution_count": null,
   "metadata": {},
   "outputs": [],
   "source": [
    "a = np.arange(int(1e8))\n",
    "b = a[:100].copy()\n",
    "del a  # the memory of ``a`` can be released."
   ]
  },
  {
   "cell_type": "markdown",
   "metadata": {},
   "source": [
    "如果改为使用 b = a[:100]，则 a 由 b 引用，并且即使执行 del a 也会在内存中持久存在"
   ]
  },
  {
   "cell_type": "code",
   "execution_count": null,
   "metadata": {},
   "outputs": [],
   "source": [
    "a = np.arange(int(1e8))\n",
    "b = a[:100]\n",
    "del a  # the memory of ``a`` can be released.\n",
    "print b"
   ]
  }
 ],
 "metadata": {
  "kernelspec": {
   "display_name": "Python 2",
   "language": "python",
   "name": "python2"
  },
  "language_info": {
   "codemirror_mode": {
    "name": "ipython",
    "version": 2
   },
   "file_extension": ".py",
   "mimetype": "text/x-python",
   "name": "python",
   "nbconvert_exporter": "python",
   "pygments_lexer": "ipython2",
   "version": "2.7.13"
  }
 },
 "nbformat": 4,
 "nbformat_minor": 2
}
