{
 "cells": [
  {
   "cell_type": "markdown",
   "metadata": {},
   "source": [
    "# Python3 的六个标准的数据类型：\n",
    "\n",
    "* Number（数字）\n",
    "\n",
    "* String（字符串）\n",
    "\n",
    "* List（列表）\n",
    "\n",
    "* Tuple（元组）\n",
    "\n",
    "* Sets（集合）\n",
    "\n",
    "* Dictionary（字典）\n",
    "\n",
    "其中数字，字符串，元组为不可变类型(**Immutable**), 列表，集合，字典为可变类型(**Mutable**)"
   ]
  },
  {
   "cell_type": "markdown",
   "metadata": {},
   "source": [
    "关于可变，不可变类型的理解：\n",
    "* 不可变数据类型，**不允许变量的值发生变化**，如果改变了变量的值，**相当于是新建了一个对象**，而对于相同的值的对象，在内存中则只有一个对象，内部会有一个引用计数来记录有多少个变量引用这个对象；\n",
    "\n",
    "\n",
    "* 可变数据类型，**允许变量的值发生变化**，即如果对变量进行**append、+=**等这种操作后，只是改变了变量的值，而不会新建一个对象，变量引用的对象的地址也不会变化，不过对于相同的值的不同对象，在内存中则会存在不同的对象，即每个对象都有自己的地址，相当于内存中对于同值的对象保存了多份，这里不存在引用计数，是实实在在的对象。\n",
    "\n",
    "参考链接： https://blog.csdn.net/dan15188387481/article/details/49864613"
   ]
  },
  {
   "cell_type": "markdown",
   "metadata": {},
   "source": [
    "## 两个例子展示可变与不可变的区别"
   ]
  },
  {
   "cell_type": "markdown",
   "metadata": {},
   "source": [
    "### 不可变类型"
   ]
  },
  {
   "cell_type": "code",
   "execution_count": null,
   "metadata": {},
   "outputs": [],
   "source": [
    "x = 1\n",
    "print id(x)\n",
    "y = 1\n",
    "print id(y)"
   ]
  },
  {
   "cell_type": "markdown",
   "metadata": {},
   "source": [
    "此时x和y的地址一样，即x和y其实引用了同一个对象,即1，也就是说内存中对于1只占用了一个地址，而不管有多少个引用指向了它，都只有一个地址值，只是有一个**引用计数**会记录指向这个地址的引用到底有几个而已"
   ]
  },
  {
   "cell_type": "code",
   "execution_count": null,
   "metadata": {},
   "outputs": [],
   "source": [
    "x = 2\n",
    "print id(x)\n",
    "y = 2\n",
    "print id(y)\n",
    "z = y\n",
    "print id(z)"
   ]
  },
  {
   "cell_type": "markdown",
   "metadata": {},
   "source": [
    "此时x,y和z都是同一个变量的引用,然后执行以下指令"
   ]
  },
  {
   "cell_type": "code",
   "execution_count": null,
   "metadata": {},
   "outputs": [],
   "source": [
    "x += 2\n",
    "print id(x)"
   ]
  },
  {
   "cell_type": "markdown",
   "metadata": {},
   "source": [
    "这时的x与之前的x已经不是一个x了，而是引用了内在中的另一个对象。整个过程的示意图如下\n",
    "![avatar](https://github.com/vitalemonate/LearnPython/blob/main/pictures/immutable.png)"
   ]
  },
  {
   "cell_type": "markdown",
   "metadata": {},
   "source": [
    "### 可变类型"
   ]
  },
  {
   "cell_type": "code",
   "execution_count": null,
   "metadata": {},
   "outputs": [],
   "source": [
    "a = [1, 2, 3]\n",
    "print id(a)\n",
    "a = [1, 2, 3]\n",
    "print id(a)\n",
    "\n",
    "b = [1, 2, 3]\n",
    "print id(b)"
   ]
  },
  {
   "cell_type": "markdown",
   "metadata": {},
   "source": [
    "进行两次a = [1, 2, 3]操作，两次a引用的地址值是不同的，也就是说其实创建了两个不同的对象,同时新建一个列表b，地址与a不同，说明引用的是不同的对象"
   ]
  },
  {
   "cell_type": "code",
   "execution_count": null,
   "metadata": {},
   "outputs": [],
   "source": [
    "print id(a)\n",
    "a.append(4)\n",
    "print id(a)\n",
    "a += [2]\n",
    "print id(a)\n",
    "a.extend([2])\n",
    "print id(a)\n",
    "print a"
   ]
  },
  {
   "cell_type": "markdown",
   "metadata": {},
   "source": [
    "在进行append和 += 操作后, a引用的地址没有发生改变，也就是说**对a进行的操作不会改变a引用的地址值**，只是在地址后面又扩充了新的地址，改变了地址里面存放的值，所以可变数据类型的意思就是说对一个变量进行操作时，其值是可变的，值的变化并不会引起新建对象"
   ]
  },
  {
   "cell_type": "markdown",
   "metadata": {},
   "source": [
    "不过，为了提高内存利用效率，对于一些简单的对象，如一些数值较小的int对象，Python采用了**缓存重用机制**\n",
    "\n",
    "![avatar](https://github.com/vitalemonate/LearnPython/blob/main/pictures/%E7%BC%93%E5%AD%98%E9%87%8D%E7%94%A8.png)"
   ]
  },
  {
   "cell_type": "code",
   "execution_count": null,
   "metadata": {},
   "outputs": [],
   "source": [
    "x = 256\n",
    "print id(x)\n",
    "x = 256\n",
    "print id(x)\n",
    "\n",
    "x = 257\n",
    "print id(x)\n",
    "x = 257\n",
    "print id(x)"
   ]
  },
  {
   "cell_type": "markdown",
   "metadata": {},
   "source": [
    "## Python += 和+操作的一些误解"
   ]
  },
  {
   "cell_type": "code",
   "execution_count": null,
   "metadata": {},
   "outputs": [],
   "source": [
    "a = [1, 2, 3]\n",
    "print id(a)\n",
    "#对列表本身进行操作时，只是在原来的内存中进行内容的修改，存储的地址不发生改变\n",
    "a += [2]\n",
    "print id(a)\n",
    "#list = list + [1]是两个列表相加存储在一个新的列表中，地址已经发生改变\n",
    "a = a + [2]\n",
    "print id(a)"
   ]
  }
 ],
 "metadata": {
  "kernelspec": {
   "display_name": "Python 2",
   "language": "python",
   "name": "python2"
  },
  "language_info": {
   "codemirror_mode": {
    "name": "ipython",
    "version": 2
   },
   "file_extension": ".py",
   "mimetype": "text/x-python",
   "name": "python",
   "nbconvert_exporter": "python",
   "pygments_lexer": "ipython2",
   "version": "2.7.18"
  }
 },
 "nbformat": 4,
 "nbformat_minor": 2
}
